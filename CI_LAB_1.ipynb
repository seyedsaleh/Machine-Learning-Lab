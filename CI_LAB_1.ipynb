{
 "cells": [
  {
   "cell_type": "markdown",
   "metadata": {
    "id": "WXlJ_J8g1JzQ"
   },
   "source": [
    "# Computational Intelligence Lab Report - Lab 1 - Prof. Amini\n",
    "## Seyed Mohammadsaleh Mirzatabatabaei - 9623105 \n"
   ]
  },
  {
   "cell_type": "markdown",
   "metadata": {
    "id": "9jm20BqcbaPq"
   },
   "source": [
    "---\n",
    "## Pre-Report\n",
    "---\n",
    "\n",
    "\n",
    "> **1- Python Applications:**\n",
    "*   Web Development\n",
    "*   List item\n",
    "*   Game Development\n",
    "*   Machine Learning and Artificial Intelligence\n",
    "*   Data Science and Data Visualization\n",
    "*   Desktop GUI\n",
    "*   Web Scraping Applications\n",
    "*   Business Applications\n",
    "*   Audio and Video Applications\n",
    "*   CAD Applications\n",
    "*   Embedded Applications\n",
    "\n",
    "> **2- Difference between MATLAB and Python:**\n",
    "The biggest technical difference between MATLAB and Python is that in MATLAB, everything is treated as an array, while in Python everything is a more general object. For instance, in MATLAB, strings are arrays of characters or arrays of strings, while in Python, strings have their own type of object called str .\n",
    "\n",
    "\n",
    "> **3- advantages of Python over Matlab Python:** data structures are superior to Matlab data structures. Python provides more control over the organization of one's code and better namespace management. Python makes it easy to maintain multiple versions of shared libraries. Python offers more choice in graphics packages and toolsets\n",
    "\n",
    "\n",
    "\n"
   ]
  },
  {
   "cell_type": "markdown",
   "metadata": {
    "id": "MaxiFQBytT0N"
   },
   "source": [
    "---\n",
    "## Report\n",
    "---\n"
   ]
  },
  {
   "cell_type": "markdown",
   "metadata": {
    "id": "Q2hcoGfF3tNd"
   },
   "source": [
    "First, we import the packages we need in Python, we then define sigmoid functions and its derivative. \n",
    "\n",
    "These two functions use the predefined functions of the Numpy to execute on the each member of matrix."
   ]
  },
  {
   "cell_type": "code",
   "execution_count": 1,
   "metadata": {
    "id": "taawmvEx778u"
   },
   "outputs": [],
   "source": [
    "from math import exp, sin, pi\n",
    "import numpy as np\n",
    "\n",
    "\n",
    "def sigmoid(mat):\n",
    "  return (2 / (1 + np.exp(-mat))) - 1\n",
    "\n",
    "def dsigmoid(mat):\n",
    "  return (1 - sigmoid(mat) ** 2) / 2"
   ]
  },
  {
   "cell_type": "markdown",
   "metadata": {
    "id": "c6X7ndRuvV8n"
   },
   "source": [
    "In this step, the sigmatrix function mentioned in the work report is defined in two ways:\n",
    "\n",
    "1.   Using sum method in Numpy package which is very simple.\n",
    "\n",
    "2.   Using two for loops used to the sum elements of the matrix.\n",
    "\n",
    "In the second method, if the matrix dimension increases, the number of loops should increase by the same number, which is impossible in high dimensions, so the first method is suggested."
   ]
  },
  {
   "cell_type": "code",
   "execution_count": 2,
   "metadata": {
    "id": "mzYu_dEmyJJp"
   },
   "outputs": [],
   "source": [
    "# sigmatrix calculated by np functions\n",
    "def sigmatrix(mat):\n",
    "  return np.sum(sigmoid(mat)), np.sum(dsigmoid(mat))\n",
    "\n",
    "# sigmatrix simply with for loops and summation\n",
    "def sigmatrix2(mat, n, m):\n",
    "  sigmat = 0\n",
    "  dsigmat = 0\n",
    "  for i in range(n):\n",
    "    for j in range(m):\n",
    "      sigmat = sigmat + sigmoid(mat[i, j])\n",
    "      dsigmat = dsigmat + dsigmoid(mat[i, j])\n",
    "  return sigmat, dsigmat"
   ]
  },
  {
   "cell_type": "markdown",
   "metadata": {
    "id": "jchabVojwfZ7"
   },
   "source": [
    "Finally, to test the functions, the matrix M is defined according to the work report, and the functions are executed on this matrix and the outputs are displayed:\n",
    "\n"
   ]
  },
  {
   "cell_type": "code",
   "execution_count": 3,
   "metadata": {
    "colab": {
     "base_uri": "https://localhost:8080/",
     "height": 357
    },
    "id": "_yDzy1UOGpRM",
    "outputId": "9bd6c97f-49d2-4f9e-f019-01a0e4aefc53"
   },
   "outputs": [
    {
     "name": "stdout",
     "output_type": "stream",
     "text": [
      "Matrix M :\n",
      " [[1.         0.         0.70710678]\n",
      " [0.         1.         1.        ]\n",
      " [1.         0.         1.        ]] \n",
      "\n",
      "Sigmoid of Matrix M:\n",
      " [[0.46211716 0.         0.3395231 ]\n",
      " [0.         0.46211716 0.46211716]\n",
      " [0.46211716 0.         0.46211716]] \n",
      "\n",
      "Dsigmoid of Matrix M:\n",
      " [[0.39322387 0.5        0.44236203]\n",
      " [0.5        0.39322387 0.39322387]\n",
      " [0.39322387 0.5        0.39322387]] \n",
      "\n",
      "Sigmatrix outputs of Matrix M (method I):\n",
      " (2.6501088849533625, 3.908481365155245) \n",
      "\n",
      "Sigmatrix outputs of Matrix M (method II):\n",
      " (2.6501088849533625, 3.908481365155244)\n"
     ]
    }
   ],
   "source": [
    "M = np.array([[1, 0, sin(pi/4)], [0, 1, sin(pi/2)], [1, 0, 1]])\n",
    "print(f\"Matrix M :\\n {M} \\n\")\n",
    "print(f\"Sigmoid of Matrix M:\\n {sigmoid(M)} \\n\")\n",
    "print(f\"Dsigmoid of Matrix M:\\n {dsigmoid(M)} \\n\")\n",
    "print(f\"Sigmatrix outputs of Matrix M (method I):\\n {sigmatrix(M)} \\n\")\n",
    "print(f\"Sigmatrix outputs of Matrix M (method II):\\n {sigmatrix2(M, 3, 3)}\")"
   ]
  },
  {
   "cell_type": "markdown",
   "metadata": {
    "id": "NtI9auNk01d7"
   },
   "source": [
    "\n",
    "## Exercise\n",
    "---\n"
   ]
  },
  {
   "cell_type": "markdown",
   "metadata": {
    "id": "rzn04fdJwhAl"
   },
   "source": [
    "The exercise is performed like the report and two functions are defined:\n",
    "\n",
    "In the first function, predefined Numpy package methods are used and in the second method, the troublesome method of using iterative loops.\n",
    "\n",
    "To Test the functions we define random matrix M (3*3) and display the output."
   ]
  },
  {
   "cell_type": "code",
   "execution_count": 4,
   "metadata": {
    "colab": {
     "base_uri": "https://localhost:8080/",
     "height": 187
    },
    "id": "e3l01NRC1mpE",
    "outputId": "d4f2d9eb-dcfc-4cfe-e6ff-32264ad04353"
   },
   "outputs": [
    {
     "name": "stdout",
     "output_type": "stream",
     "text": [
      "Matrix M :\n",
      " [[-1.20754525 -1.56804464 -0.15136428]\n",
      " [-0.24980713  0.33077312 -0.02601507]\n",
      " [-1.19980095 -0.02119167 -0.14695743]] \n",
      "\n",
      "Tanhmatrix outputs of Matrix M (method I):\n",
      " -2.8550968150001332 \n",
      "\n",
      "Tanhatrix outputs of Matrix M (method II):\n",
      " -2.8550968150001337\n"
     ]
    }
   ],
   "source": [
    "from math import exp\n",
    "import numpy as np\n",
    "\n",
    "\n",
    "# tanhmatrix calculated by np functions\n",
    "def tanhmatrix(mat):\n",
    "  return np.sum(np.tanh(mat))\n",
    "\n",
    "# tanhmatrix simply with for loops and summation\n",
    "def tanhmatrix2(mat, n, m):\n",
    "  tanhmat = 0\n",
    "  for i in range(n):\n",
    "    for j in range(m):\n",
    "      tanhmat = tanhmat + (exp(mat[i, j]) - exp(-mat[i, j])) / (exp(mat[i, j]) + exp(-mat[i, j]))\n",
    "  return tanhmat\n",
    "  \n",
    "\n",
    "M = np.random.randn(3, 3)\n",
    "print(f\"Matrix M :\\n {M} \\n\")\n",
    "print(f\"Tanhmatrix outputs of Matrix M (method I):\\n {tanhmatrix(M)} \\n\")\n",
    "print(f\"Tanhatrix outputs of Matrix M (method II):\\n {tanhmatrix2(M, 3, 3)}\")"
   ]
  }
 ],
 "metadata": {
  "colab": {
   "collapsed_sections": [],
   "name": "Untitled0.ipynb",
   "provenance": [],
   "toc_visible": true
  },
  "kernelspec": {
   "display_name": "Python 3",
   "language": "python",
   "name": "python3"
  }
 },
 "nbformat": 4,
 "nbformat_minor": 1
}
